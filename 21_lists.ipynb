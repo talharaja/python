{
 "cells": [
  {
   "cell_type": "markdown",
   "id": "ec40bed2",
   "metadata": {},
   "source": [
    "# Lists in Python"
   ]
  },
  {
   "cell_type": "code",
   "execution_count": 51,
   "id": "13acdd0a",
   "metadata": {},
   "outputs": [],
   "source": [
    "my_list = [1,2]"
   ]
  },
  {
   "cell_type": "code",
   "execution_count": 52,
   "id": "03ecd5a2",
   "metadata": {},
   "outputs": [
    {
     "data": {
      "text/plain": [
       "[1, 2]"
      ]
     },
     "execution_count": 52,
     "metadata": {},
     "output_type": "execute_result"
    }
   ],
   "source": [
    "my_list"
   ]
  },
  {
   "cell_type": "markdown",
   "id": "d53b153a",
   "metadata": {},
   "source": [
    "Indexing"
   ]
  },
  {
   "cell_type": "code",
   "execution_count": 53,
   "id": "9a4c3d3e",
   "metadata": {},
   "outputs": [],
   "source": [
    "my_list = [\"string\", 100, 400]"
   ]
  },
  {
   "cell_type": "code",
   "execution_count": 54,
   "id": "c3ab88ac",
   "metadata": {},
   "outputs": [
    {
     "data": {
      "text/plain": [
       "['string']"
      ]
     },
     "execution_count": 54,
     "metadata": {},
     "output_type": "execute_result"
    }
   ],
   "source": [
    "my_list[:1]"
   ]
  },
  {
   "cell_type": "markdown",
   "id": "c5be4690",
   "metadata": {},
   "source": [
    "Concatenation\n"
   ]
  },
  {
   "cell_type": "code",
   "execution_count": 55,
   "id": "e58402b2",
   "metadata": {},
   "outputs": [],
   "source": [
    "another_list = [ \"four\" , \"five\" , \"six\" ]"
   ]
  },
  {
   "cell_type": "code",
   "execution_count": 56,
   "id": "b7a800c7",
   "metadata": {},
   "outputs": [],
   "source": [
    "new_list = my_list + another_list"
   ]
  },
  {
   "cell_type": "code",
   "execution_count": 57,
   "id": "22e50b19",
   "metadata": {},
   "outputs": [
    {
     "data": {
      "text/plain": [
       "['string', 100, 400, 'four', 'five', 'six']"
      ]
     },
     "execution_count": 57,
     "metadata": {},
     "output_type": "execute_result"
    }
   ],
   "source": [
    "new_list"
   ]
  },
  {
   "cell_type": "markdown",
   "id": "a0e58c58",
   "metadata": {},
   "source": [
    "Mutation/Replacing List item"
   ]
  },
  {
   "cell_type": "code",
   "execution_count": 58,
   "id": "0748627f",
   "metadata": {},
   "outputs": [],
   "source": [
    "new_list[1] = 'hundred'"
   ]
  },
  {
   "cell_type": "code",
   "execution_count": 59,
   "id": "f61315fc",
   "metadata": {},
   "outputs": [
    {
     "data": {
      "text/plain": [
       "['string', 'hundred', 400, 'four', 'five', 'six']"
      ]
     },
     "execution_count": 59,
     "metadata": {},
     "output_type": "execute_result"
    }
   ],
   "source": [
    "new_list\n"
   ]
  },
  {
   "cell_type": "markdown",
   "id": "930d8ec7",
   "metadata": {},
   "source": [
    "Adding at end using append"
   ]
  },
  {
   "cell_type": "code",
   "execution_count": 60,
   "id": "0e9a7966",
   "metadata": {},
   "outputs": [],
   "source": [
    "new_list.append(\"addddddd\")"
   ]
  },
  {
   "cell_type": "code",
   "execution_count": 61,
   "id": "9f209628",
   "metadata": {},
   "outputs": [
    {
     "data": {
      "text/plain": [
       "['string', 'hundred', 400, 'four', 'five', 'six', 'addddddd']"
      ]
     },
     "execution_count": 61,
     "metadata": {},
     "output_type": "execute_result"
    }
   ],
   "source": [
    "new_list"
   ]
  },
  {
   "cell_type": "raw",
   "id": "b24bf36d",
   "metadata": {},
   "source": [
    "Removing item by using pop"
   ]
  },
  {
   "cell_type": "code",
   "execution_count": 62,
   "id": "e98c5aba",
   "metadata": {},
   "outputs": [
    {
     "data": {
      "text/plain": [
       "'four'"
      ]
     },
     "execution_count": 62,
     "metadata": {},
     "output_type": "execute_result"
    }
   ],
   "source": [
    "new_list.pop(3)"
   ]
  },
  {
   "cell_type": "code",
   "execution_count": 63,
   "id": "6fc9fbfc",
   "metadata": {},
   "outputs": [
    {
     "data": {
      "text/plain": [
       "['string', 'hundred', 400, 'five', 'six', 'addddddd']"
      ]
     },
     "execution_count": 63,
     "metadata": {},
     "output_type": "execute_result"
    }
   ],
   "source": [
    "new_list"
   ]
  },
  {
   "cell_type": "code",
   "execution_count": 64,
   "id": "2485ebc1",
   "metadata": {},
   "outputs": [
    {
     "data": {
      "text/plain": [
       "'addddddd'"
      ]
     },
     "execution_count": 64,
     "metadata": {},
     "output_type": "execute_result"
    }
   ],
   "source": [
    "new_list.pop()"
   ]
  },
  {
   "cell_type": "code",
   "execution_count": 65,
   "id": "742b9e95",
   "metadata": {},
   "outputs": [],
   "source": [
    "popped_item = new_list.pop(4)"
   ]
  },
  {
   "cell_type": "code",
   "execution_count": 66,
   "id": "ee5c1c24",
   "metadata": {},
   "outputs": [
    {
     "data": {
      "text/plain": [
       "'six'"
      ]
     },
     "execution_count": 66,
     "metadata": {},
     "output_type": "execute_result"
    }
   ],
   "source": [
    "popped_item"
   ]
  },
  {
   "cell_type": "code",
   "execution_count": 67,
   "id": "0a436870",
   "metadata": {},
   "outputs": [
    {
     "data": {
      "text/plain": [
       "['string', 'hundred', 400, 'five']"
      ]
     },
     "execution_count": 67,
     "metadata": {},
     "output_type": "execute_result"
    }
   ],
   "source": [
    "new_list"
   ]
  },
  {
   "cell_type": "markdown",
   "id": "8ac5c4c6",
   "metadata": {},
   "source": [
    "Sort and Reverse"
   ]
  },
  {
   "cell_type": "code",
   "execution_count": 68,
   "id": "66595dfd",
   "metadata": {},
   "outputs": [],
   "source": [
    "new_list = ['a','e','x','t']"
   ]
  },
  {
   "cell_type": "code",
   "execution_count": 72,
   "id": "a7b391c3",
   "metadata": {},
   "outputs": [],
   "source": [
    "new_list.sort()"
   ]
  },
  {
   "cell_type": "code",
   "execution_count": 73,
   "id": "4e77b784",
   "metadata": {},
   "outputs": [
    {
     "data": {
      "text/plain": [
       "['a', 'e', 't', 'x']"
      ]
     },
     "execution_count": 73,
     "metadata": {},
     "output_type": "execute_result"
    }
   ],
   "source": [
    "new_list"
   ]
  },
  {
   "cell_type": "code",
   "execution_count": 74,
   "id": "a2804442",
   "metadata": {},
   "outputs": [],
   "source": [
    "num_list = ['1','4','3']"
   ]
  },
  {
   "cell_type": "code",
   "execution_count": 76,
   "id": "5f864833",
   "metadata": {},
   "outputs": [],
   "source": [
    "num_list.sort()"
   ]
  },
  {
   "cell_type": "code",
   "execution_count": 77,
   "id": "2e2673c2",
   "metadata": {},
   "outputs": [
    {
     "data": {
      "text/plain": [
       "['1', '3', '4']"
      ]
     },
     "execution_count": 77,
     "metadata": {},
     "output_type": "execute_result"
    }
   ],
   "source": [
    "num_list"
   ]
  },
  {
   "cell_type": "code",
   "execution_count": null,
   "id": "872de207",
   "metadata": {},
   "outputs": [],
   "source": []
  }
 ],
 "metadata": {
  "kernelspec": {
   "display_name": "Python 3.11.0 64-bit",
   "language": "python",
   "name": "python3"
  },
  "language_info": {
   "codemirror_mode": {
    "name": "ipython",
    "version": 3
   },
   "file_extension": ".py",
   "mimetype": "text/x-python",
   "name": "python",
   "nbconvert_exporter": "python",
   "pygments_lexer": "ipython3",
   "version": "3.11.0"
  },
  "vscode": {
   "interpreter": {
    "hash": "aee8b7b246df8f9039afb4144a1f6fd8d2ca17a180786b69acc140d282b71a49"
   }
  }
 },
 "nbformat": 4,
 "nbformat_minor": 5
}
